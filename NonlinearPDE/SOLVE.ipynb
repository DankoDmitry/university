{
 "cells": [
  {
   "cell_type": "code",
   "execution_count": 7,
   "metadata": {},
   "outputs": [],
   "source": [
    "import numpy as np\n",
    "import matplotlib.pyplot as plt"
   ]
  },
  {
   "cell_type": "markdown",
   "metadata": {},
   "source": [
    "Далее запишем $Ф_f(c)$"
   ]
  },
  {
   "cell_type": "code",
   "execution_count": 8,
   "metadata": {},
   "outputs": [],
   "source": [
    "def Fi(c, h):\n",
    "    s = 0\n",
    "    for i in range(1, len(c) - 1):\n",
    "        s += 2*(c[i]**2 - c[i] * (c[i+1] + c[i-1]))/h + 4*h*(c[i]**2 / 3 - c[i] * (c[i+1] + c[i-1])/6) + h*c[i] + h*(np.log(c[i]**2 + 1)/2 - c[i] * np.arctan(c[i]))\n",
    "    \n",
    "    return s\n",
    "    "
   ]
  },
  {
   "cell_type": "code",
   "execution_count": 9,
   "metadata": {},
   "outputs": [
    {
     "name": "stdout",
     "output_type": "stream",
     "text": [
      "-19399.43110299406\n"
     ]
    }
   ],
   "source": [
    "N = 99\n",
    "h = 1/(N+1)\n",
    "\n",
    "c = np.zeros((N+2, 10))\n",
    "\n",
    "for i in range(N):\n",
    "    # c[i+1, 0] = (np.exp(2*i*h) * (np.exp(-2) - 2) + np.exp(-2*i*h))/(4 * (np.exp(-2) - 1)) - 1/4\n",
    "    c[i+1, 0] = 1\n",
    "\n",
    "# print (c)\n",
    "print (Fi(c[:,0], h))"
   ]
  },
  {
   "cell_type": "code",
   "execution_count": 10,
   "metadata": {},
   "outputs": [],
   "source": [
    "def sled_c(c, h, w):\n",
    "    r = np.zeros(N+2)\n",
    "\n",
    "    for i in range(1, len(c) - 1):\n",
    "        r[i] = c[i] - w*( 2*c[i] - c[i+1] - c[i-1]  + h**2 * (c[i]*2 / 3 - (c[i+1] + c[i-1])/6) + h**2 - (h**2 + i**2 * h**4)*np.arctan(c[i]) )\n",
    "    \n",
    "    return r"
   ]
  },
  {
   "cell_type": "code",
   "execution_count": 11,
   "metadata": {},
   "outputs": [
    {
     "name": "stdout",
     "output_type": "stream",
     "text": [
      "0.0 -19399.43110299406\n"
     ]
    },
    {
     "ename": "KeyboardInterrupt",
     "evalue": "",
     "output_type": "error",
     "traceback": [
      "\u001b[1;31m---------------------------------------------------------------------------\u001b[0m",
      "\u001b[1;31mKeyboardInterrupt\u001b[0m                         Traceback (most recent call last)",
      "Input \u001b[1;32mIn [11]\u001b[0m, in \u001b[0;36m<cell line: 1>\u001b[1;34m()\u001b[0m\n\u001b[0;32m      3\u001b[0m w \u001b[38;5;241m=\u001b[39m \u001b[38;5;241m2\u001b[39m\n\u001b[0;32m      5\u001b[0m \u001b[38;5;28mprint\u001b[39m (Fi(c[:,i], h), Fi(c[:,i\u001b[38;5;241m-\u001b[39m\u001b[38;5;241m1\u001b[39m], h))\n\u001b[1;32m----> 7\u001b[0m \u001b[38;5;28;01mwhile\u001b[39;00m count \u001b[38;5;241m<\u001b[39m \u001b[38;5;241m20\u001b[39m \u001b[38;5;129;01mor\u001b[39;00m \u001b[43mFi\u001b[49m\u001b[43m(\u001b[49m\u001b[43mc\u001b[49m\u001b[43m[\u001b[49m\u001b[43m:\u001b[49m\u001b[43m,\u001b[49m\u001b[43mi\u001b[49m\u001b[43m]\u001b[49m\u001b[43m,\u001b[49m\u001b[43m \u001b[49m\u001b[43mh\u001b[49m\u001b[43m)\u001b[49m \u001b[38;5;241m>\u001b[39m Fi(c[:,i\u001b[38;5;241m-\u001b[39m\u001b[38;5;241m1\u001b[39m], h):\n\u001b[0;32m      8\u001b[0m     w \u001b[38;5;241m=\u001b[39m w\u001b[38;5;241m/\u001b[39m\u001b[38;5;241m2\u001b[39m\n\u001b[0;32m      9\u001b[0m     \u001b[38;5;66;03m# print (w)\u001b[39;00m\n",
      "Input \u001b[1;32mIn [8]\u001b[0m, in \u001b[0;36mFi\u001b[1;34m(c, h)\u001b[0m\n\u001b[1;32m----> 1\u001b[0m \u001b[38;5;28;01mdef\u001b[39;00m \u001b[38;5;21mFi\u001b[39m(c, h):\n\u001b[0;32m      2\u001b[0m     s \u001b[38;5;241m=\u001b[39m \u001b[38;5;241m0\u001b[39m\n\u001b[0;32m      3\u001b[0m     \u001b[38;5;28;01mfor\u001b[39;00m i \u001b[38;5;129;01min\u001b[39;00m \u001b[38;5;28mrange\u001b[39m(\u001b[38;5;241m1\u001b[39m, \u001b[38;5;28mlen\u001b[39m(c) \u001b[38;5;241m-\u001b[39m \u001b[38;5;241m1\u001b[39m):\n",
      "\u001b[1;31mKeyboardInterrupt\u001b[0m: "
     ]
    }
   ],
   "source": [
    "for i in range(1, 9):\n",
    "    count = 0\n",
    "    w = 2\n",
    "\n",
    "    print (Fi(c[:,i], h), Fi(c[:,i-1], h))\n",
    "\n",
    "    while count < 20 or Fi(c[:,i], h) > Fi(c[:,i-1], h):\n",
    "        w = w/2\n",
    "        # print (w)\n",
    "        c[:,i+1] = sled_c(c[:,i], h, w)\n",
    "        count += 1\n",
    "    \n",
    "print (c)\n",
    "print (c[:,8])\n",
    "\n",
    "\n",
    "\n"
   ]
  },
  {
   "cell_type": "code",
   "execution_count": null,
   "metadata": {},
   "outputs": [
    {
     "data": {
      "image/png": "[encoded data removed]",
      "text/plain": [
       "<Figure size 640x480 with 1 Axes>"
      ]
     },
     "metadata": {},
     "output_type": "display_data"
    }
   ],
   "source": [
    "t = np.linspace(0,1,N+2)\n",
    "\n",
    "\n",
    "plt.plot(t, c[:,8])\n",
    "plt.show()"
   ]
  },
  {
   "cell_type": "code",
   "execution_count": null,
   "metadata": {},
   "outputs": [],
   "source": []
  }
 ],
 "metadata": {
  "kernelspec": {
   "display_name": "Python 3",
   "language": "python",
   "name": "python3"
  },
  "language_info": {
   "codemirror_mode": {
    "name": "ipython",
    "version": 3
   },
   "file_extension": ".py",
   "mimetype": "text/x-python",
   "name": "python",
   "nbconvert_exporter": "python",
   "pygments_lexer": "ipython3",
   "version": "3.10.6"
  }
 },
 "nbformat": 4,
 "nbformat_minor": 2
}
