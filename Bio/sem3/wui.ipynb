{
 "cells": [
  {
   "cell_type": "code",
   "execution_count": null,
   "metadata": {},
   "outputs": [],
   "source": []
  },
  {
   "cell_type": "code",
   "execution_count": 12,
   "metadata": {},
   "outputs": [],
   "source": [
    "import numpy as np\n",
    "def X(v, t, r, K, sigma_1, sigma_2, beta_0, beta_1, beta_2, v0):\n",
    "    N = v0[0]\n",
    "    dxdt = r*N*(1-N/K) - sigma_1*N + sigma_2*v0[1] - beta_1*N*v0[2]\n",
    "    return dxdt"
   ]
  },
  {
   "cell_type": "code",
   "execution_count": 13,
   "metadata": {},
   "outputs": [],
   "source": [
    "def Y(v, t, s, L, sigma_1, sigma_2, beta_0, beta_1, beta_2, v0):\n",
    "    N = v0[1]\n",
    "    dydt = s*N*(1-N/L) + sigma_1*v0[0] - sigma_2*N\n",
    "    return dydt"
   ]
  },
  {
   "cell_type": "code",
   "execution_count": 14,
   "metadata": {},
   "outputs": [],
   "source": [
    "def Z(v, t, r, K, sigma_1, sigma_2, beta_0, beta_1, beta_2, v0):\n",
    "    N = v0[2]\n",
    "    dzdt = 1*N*(1-N/100) + beta_2*N*v0[0] - beta_0*N\n",
    "    return dzdt"
   ]
  },
  {
   "cell_type": "code",
   "execution_count": 15,
   "metadata": {},
   "outputs": [],
   "source": [
    "B = 10\n",
    "\n",
    "r = 4\n",
    "K = 400\n",
    "\n",
    "s = 3.5\n",
    "L = 500\n",
    "\n",
    "sigma_1 = 2.5\n",
    "sigma_2 = 1.5\n",
    "beta_0 = 3\n",
    "beta_1 = 2\n",
    "beta_2 = 1\n",
    "\n",
    "t = np.linspace(0, 20, B)\n",
    "\n",
    "v = [0] * B\n",
    "\n",
    "v0 = [1, 1, 1]"
   ]
  },
  {
   "cell_type": "code",
   "execution_count": 16,
   "metadata": {},
   "outputs": [
    {
     "ename": "RuntimeError",
     "evalue": "The size of the array returned by func (1) does not match the size of y0 (10).",
     "output_type": "error",
     "traceback": [
      "\u001b[1;31m---------------------------------------------------------------------------\u001b[0m",
      "\u001b[1;31mRuntimeError\u001b[0m                              Traceback (most recent call last)",
      "\u001b[1;32mc:\\Users\\ddigo\\university\\university\\Bio\\sem3\\wui.ipynb Cell 6\u001b[0m line \u001b[0;36m<cell line: 2>\u001b[1;34m()\u001b[0m\n\u001b[0;32m      <a href='vscode-notebook-cell:/c%3A/Users/ddigo/university/university/Bio/sem3/wui.ipynb#W5sZmlsZQ%3D%3D?line=0'>1</a>\u001b[0m \u001b[39mfrom\u001b[39;00m \u001b[39mscipy\u001b[39;00m\u001b[39m.\u001b[39;00m\u001b[39mintegrate\u001b[39;00m \u001b[39mimport\u001b[39;00m odeint\n\u001b[1;32m----> <a href='vscode-notebook-cell:/c%3A/Users/ddigo/university/university/Bio/sem3/wui.ipynb#W5sZmlsZQ%3D%3D?line=1'>2</a>\u001b[0m X_sol \u001b[39m=\u001b[39m odeint(X, v, t, args\u001b[39m=\u001b[39;49m(r, K, sigma_1, sigma_2, beta_0, beta_1, beta_2, v0))\n\u001b[0;32m      <a href='vscode-notebook-cell:/c%3A/Users/ddigo/university/university/Bio/sem3/wui.ipynb#W5sZmlsZQ%3D%3D?line=2'>3</a>\u001b[0m Y_sol \u001b[39m=\u001b[39m odeint(Y, v, t, args\u001b[39m=\u001b[39m(r, K, sigma_1, sigma_2, beta_0, beta_1, beta_2, v0))\n\u001b[0;32m      <a href='vscode-notebook-cell:/c%3A/Users/ddigo/university/university/Bio/sem3/wui.ipynb#W5sZmlsZQ%3D%3D?line=3'>4</a>\u001b[0m Z_sol \u001b[39m=\u001b[39m odeint(Z, v, t, args\u001b[39m=\u001b[39m(r, K, sigma_1, sigma_2, beta_0, beta_1, beta_2, v0))\n",
      "File \u001b[1;32mc:\\Users\\ddigo\\AppData\\Local\\Programs\\Python\\Python310\\lib\\site-packages\\scipy\\integrate\\_odepack_py.py:241\u001b[0m, in \u001b[0;36modeint\u001b[1;34m(func, y0, t, args, Dfun, col_deriv, full_output, ml, mu, rtol, atol, tcrit, h0, hmax, hmin, ixpr, mxstep, mxhnil, mxordn, mxords, printmessg, tfirst)\u001b[0m\n\u001b[0;32m    239\u001b[0m t \u001b[39m=\u001b[39m copy(t)\n\u001b[0;32m    240\u001b[0m y0 \u001b[39m=\u001b[39m copy(y0)\n\u001b[1;32m--> 241\u001b[0m output \u001b[39m=\u001b[39m _odepack\u001b[39m.\u001b[39;49modeint(func, y0, t, args, Dfun, col_deriv, ml, mu,\n\u001b[0;32m    242\u001b[0m                          full_output, rtol, atol, tcrit, h0, hmax, hmin,\n\u001b[0;32m    243\u001b[0m                          ixpr, mxstep, mxhnil, mxordn, mxords,\n\u001b[0;32m    244\u001b[0m                          \u001b[39mint\u001b[39;49m(\u001b[39mbool\u001b[39;49m(tfirst)))\n\u001b[0;32m    245\u001b[0m \u001b[39mif\u001b[39;00m output[\u001b[39m-\u001b[39m\u001b[39m1\u001b[39m] \u001b[39m<\u001b[39m \u001b[39m0\u001b[39m:\n\u001b[0;32m    246\u001b[0m     warning_msg \u001b[39m=\u001b[39m _msgs[output[\u001b[39m-\u001b[39m\u001b[39m1\u001b[39m]] \u001b[39m+\u001b[39m \u001b[39m\"\u001b[39m\u001b[39m Run with full_output = 1 to get quantitative information.\u001b[39m\u001b[39m\"\u001b[39m\n",
      "\u001b[1;31mRuntimeError\u001b[0m: The size of the array returned by func (1) does not match the size of y0 (10)."
     ]
    }
   ],
   "source": [
    "from scipy.integrate import odeint\n",
    "X_sol = odeint(X, v, t, args=(r, K, sigma_1, sigma_2, beta_0, beta_1, beta_2, v0))\n",
    "Y_sol = odeint(Y, v, t, args=(r, K, sigma_1, sigma_2, beta_0, beta_1, beta_2, v0))\n",
    "Z_sol = odeint(Z, v, t, args=(r, K, sigma_1, sigma_2, beta_0, beta_1, beta_2, v0))\n"
   ]
  },
  {
   "cell_type": "code",
   "execution_count": 17,
   "metadata": {},
   "outputs": [
    {
     "name": "stdout",
     "output_type": "stream",
     "text": [
      "[[1, 1, 1], [0.9900000000000002, 4.99, -1.01], [10.959999000000002, 14.700999000000003, 1.0098989999999999], [15.153297158997997, 61.99130128402, 9.03849507019899], [-160.5053298210895, 154.4322817586836, 118.06906759712567], [37634.70009158696, -253.67591664794915, -19326.255818771966], [1440568048.291966, 92809.04573047574, -731034230.7608589], [2.0854567492269724e+18, 3515516953.650225, -1.0584486640451619e+18], [4.3712065217575465e+36, 5.090053287342202e+18, -2.218552045887445e+36], [1.9204423879124938e+73, 1.0668929879714036e+37, -9.746968903644861e+72]]\n"
     ]
    }
   ],
   "source": [
    "v[0] = v0\n",
    "for i in range(B-1):\n",
    "    v[i+1] = [X(1, t, r, K, sigma_1, sigma_2, beta_0, beta_1, beta_2, v[i]),\n",
    "            Y(1, t, r, K, sigma_1, sigma_2, beta_0, beta_1, beta_2, v[i]),\n",
    "            Z(1, t, r, K, sigma_1, sigma_2, beta_0, beta_1, beta_2, v[i])]\n",
    "\n",
    "print(v)"
   ]
  },
  {
   "cell_type": "code",
   "execution_count": 18,
   "metadata": {},
   "outputs": [
    {
     "name": "stdout",
     "output_type": "stream",
     "text": [
      "[[ 1.00000000e+00  9.90000000e-01  1.09599990e+01  1.51532972e+01\n",
      "  -1.60505330e+02  3.76347001e+04  1.44056805e+09  2.08545675e+18\n",
      "   4.37120652e+36  1.92044239e+73]\n",
      " [ 1.00000000e+00  4.99000000e+00  1.47009990e+01  6.19913013e+01\n",
      "   1.54432282e+02 -2.53675917e+02  9.28090457e+04  3.51551695e+09\n",
      "   5.09005329e+18  1.06689299e+37]\n",
      " [ 1.00000000e+00 -1.01000000e+00  1.00989900e+00  9.03849507e+00\n",
      "   1.18069068e+02 -1.93262558e+04 -7.31034231e+08 -1.05844866e+18\n",
      "  -2.21855205e+36 -9.74696890e+72]]\n"
     ]
    }
   ],
   "source": [
    "V = np.transpose(v)\n",
    "print(V)"
   ]
  },
  {
   "cell_type": "code",
   "execution_count": 19,
   "metadata": {},
   "outputs": [
    {
     "data": {
      "image/png": "[encoded data removed]",
      "text/plain": [
       "<Figure size 640x480 with 1 Axes>"
      ]
     },
     "metadata": {},
     "output_type": "display_data"
    }
   ],
   "source": [
    "import matplotlib.pyplot as plt\n",
    "plt.plot(V[0], 'r', label='X_sol')\n",
    "plt.plot(V[1], 'g', label='Y_sol')\n",
    "plt.plot(V[2], 'b', label='Z_sol')\n",
    "plt.legend(loc='best')\n",
    "plt.xlabel('t')\n",
    "plt.grid()\n",
    "plt.show()"
   ]
  },
  {
   "cell_type": "code",
   "execution_count": null,
   "metadata": {},
   "outputs": [],
   "source": []
  },
  {
   "cell_type": "code",
   "execution_count": null,
   "metadata": {},
   "outputs": [],
   "source": []
  },
  {
   "cell_type": "code",
   "execution_count": null,
   "metadata": {},
   "outputs": [],
   "source": []
  },
  {
   "cell_type": "code",
   "execution_count": null,
   "metadata": {},
   "outputs": [],
   "source": []
  },
  {
   "cell_type": "code",
   "execution_count": null,
   "metadata": {},
   "outputs": [],
   "source": []
  },
  {
   "cell_type": "code",
   "execution_count": 20,
   "metadata": {},
   "outputs": [],
   "source": [
    "from scipy.integrate import odeint\n",
    "\n",
    "import matplotlib.pyplot as plt\n",
    "\n",
    "import numpy as np"
   ]
  },
  {
   "cell_type": "code",
   "execution_count": 39,
   "metadata": {},
   "outputs": [],
   "source": [
    "def pend(y, t, r, K):\n",
    "    N = y\n",
    "    dydt = r*N*(1-N/K)\n",
    "    return dydt\n",
    "\n",
    "r = 0.1\n",
    "K = 1000\n",
    "\n",
    "y0 = [10, 200, 700]\n",
    "\n",
    "t = np.linspace(0, 200, 200)\n",
    "\n",
    "from scipy.integrate import odeint\n",
    "sol = odeint(pend, y0, t, args=(r, K))\n",
    "\n",
    "analit = (y0[0] * np.e ** (r*t)) / (1 - y0[0]/K + (y0[0] * np.e ** (r*t)) / K)"
   ]
  },
  {
   "cell_type": "code",
   "execution_count": 40,
   "metadata": {},
   "outputs": [],
   "source": [
    "def Xplicit_Y(y, tau, r, K, n0):\n",
    "    if y == 0:\n",
    "        return n0\n",
    "    else:\n",
    "        return (tau*r*y - tau*r*y*y/K + y)"
   ]
  },
  {
   "cell_type": "code",
   "execution_count": 41,
   "metadata": {},
   "outputs": [
    {
     "data": {
      "image/png": "[encoded data removed]",
      "text/plain": [
       "<Figure size 640x480 with 1 Axes>"
      ]
     },
     "metadata": {},
     "output_type": "display_data"
    }
   ],
   "source": [
    "m = [10]\n",
    "\n",
    "for i in range(199):\n",
    "    m.append(Xplicit_Y(m[i], 1, r, K, y0[0]))\n",
    "\n",
    "# print(m)\n",
    "\n",
    "plt.plot(m, 'g', label='plicit')\n",
    "plt.plot(t, analit, 'b', label='analit')\n",
    "plt.legend()\n",
    "plt.show()"
   ]
  },
  {
   "cell_type": "code",
   "execution_count": 43,
   "metadata": {},
   "outputs": [],
   "source": [
    "analit_arr = [analit[i] for i in range(199)]\n",
    "# analit"
   ]
  },
  {
   "cell_type": "code",
   "execution_count": 44,
   "metadata": {},
   "outputs": [],
   "source": [
    "abs_delta_y = max(abs(sol[:, 0] - analit))\n",
    "relativ_delta_y = max(abs(sol[:, 0] - analit)/analit)"
   ]
  },
  {
   "cell_type": "code",
   "execution_count": 45,
   "metadata": {},
   "outputs": [
    {
     "name": "stdout",
     "output_type": "stream",
     "text": [
      "abs_delta_y = 4.167796487308806e-05 \n",
      "relative_delta_y = 5.035263893213719e-08\n"
     ]
    }
   ],
   "source": [
    "print(f'abs_delta_y = {abs_delta_y} \\nrelative_delta_y = {relativ_delta_y}')"
   ]
  },
  {
   "cell_type": "code",
   "execution_count": null,
   "metadata": {},
   "outputs": [],
   "source": []
  }
 ],
 "metadata": {
  "kernelspec": {
   "display_name": "Python 3",
   "language": "python",
   "name": "python3"
  },
  "language_info": {
   "codemirror_mode": {
    "name": "ipython",
    "version": 3
   },
   "file_extension": ".py",
   "mimetype": "text/x-python",
   "name": "python",
   "nbconvert_exporter": "python",
   "pygments_lexer": "ipython3",
   "version": "3.10.6"
  },
  "orig_nbformat": 4
 },
 "nbformat": 4,
 "nbformat_minor": 2
}
