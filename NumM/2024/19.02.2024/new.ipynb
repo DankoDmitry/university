{
 "cells": [
  {
   "cell_type": "code",
   "execution_count": 1,
   "metadata": {},
   "outputs": [],
   "source": [
    "import numpy as np\n",
    "import matplotlib.pyplot as plt"
   ]
  },
  {
   "cell_type": "code",
   "execution_count": 55,
   "metadata": {},
   "outputs": [
    {
     "name": "stdout",
     "output_type": "stream",
     "text": [
      "[[20 19  3  5 10]\n",
      " [ 6 20 19  7 16]\n",
      " [ 2  6 20  3 15]\n",
      " [17 12 19 20 11]\n",
      " [ 6  6 17 15 20]] [14  6 13  1 19] [ 0.64064167 -0.67581013 -0.52076608 -0.62313617  1.87055383]\n"
     ]
    }
   ],
   "source": [
    "A = np.zeros((2,2))\n",
    "while np.linalg.det(A) == 0:\n",
    "    A = np.random.randint (1, 20, (5, 5))\n",
    "    for i in range(5): A[i,i] = 20\n",
    "b = np.random.randint (0, 20, 5)\n",
    "E = 0.001\n",
    "P = np.linalg.solve(A, b)\n",
    "print(A, b, P)"
   ]
  },
  {
   "cell_type": "code",
   "execution_count": 57,
   "metadata": {},
   "outputs": [
    {
     "name": "stdout",
     "output_type": "stream",
     "text": [
      "(array([ 0.64127693, -0.67613962, -0.52080373, -0.62357655,  1.87082439]), 20)\n"
     ]
    }
   ],
   "source": [
    "def Messure(A, B):\n",
    "    N = len(B)\n",
    "    s = 0\n",
    "    for i in range(N):\n",
    "        s = s + (abs(A[i] - B[i]))**2\n",
    "\n",
    "    return np.sqrt(s)\n",
    "\n",
    "def Prod(A, x, i):\n",
    "    N = len(x)\n",
    "    s = 0\n",
    "    \n",
    "    for j in range(N):\n",
    "        if j != i: s += A[i][j]*x[j]\n",
    "    \n",
    "    return s\n",
    "\n",
    "def Simp(A, b, P, E):\n",
    "    N = len(b)\n",
    "\n",
    "    x, y = np.zeros(N), np.zeros(N)\n",
    "    k = 0\n",
    "\n",
    "    while Messure(x, P) > E and k < 1000:\n",
    "        for i in range(N):\n",
    "            y[i] = (b[i] - Prod(A, x, i))/A[i,i]\n",
    "        x = y\n",
    "        k+=1\n",
    "\n",
    "    return (x, k)    \n",
    "\n",
    "print(Simp(A, b, P, 0.001))"
   ]
  },
  {
   "cell_type": "code",
   "execution_count": 59,
   "metadata": {},
   "outputs": [
    {
     "name": "stdout",
     "output_type": "stream",
     "text": [
      "(array([ 0.64116405, -0.67608391, -0.52078843, -0.62349823,  1.8707698 ]), 20)\n"
     ]
    }
   ],
   "source": [
    "def Prod_Zeydel(A, x, y, i):\n",
    "    N = len(x)\n",
    "    s = 0\n",
    "    \n",
    "    for j in range(N):\n",
    "        if j < i: s += A[i][j]*y[j]\n",
    "        elif j > i: s += A[i][j]*x[j]\n",
    "    \n",
    "    return s\n",
    "\n",
    "def Gauss_Zeydel(A, b, P, E):\n",
    "    N = len(b)\n",
    "\n",
    "    x, y = np.zeros(N), np.zeros(N)\n",
    "    k = 0\n",
    "\n",
    "    while Messure(x, P) > E and k < 1000:\n",
    "        for i in range(N):\n",
    "            y[i] = (b[i] - Prod_Zeydel(A, x, y, i))/A[i,i]\n",
    "        x = y\n",
    "        k+=1\n",
    "\n",
    "\n",
    "    return (x, k)    \n",
    "\n",
    "print(Gauss_Zeydel(A, b, P, 0.001))"
   ]
  },
  {
   "cell_type": "code",
   "execution_count": 63,
   "metadata": {},
   "outputs": [
    {
     "name": "stdout",
     "output_type": "stream",
     "text": [
      "(array([ 0.6408716 , -0.67589834, -0.52010531, -0.62343828,  1.87001474]), 47)\n"
     ]
    }
   ],
   "source": [
    "def Gauss_Zeydel_with_argument(A, b, P, E, w):\n",
    "    N = len(b)\n",
    "\n",
    "    x, y = np.zeros(N), np.zeros(N)\n",
    "    k = 0\n",
    "\n",
    "    while Messure(x, P) > E and k < 1000:\n",
    "        for i in range(N):\n",
    "            y[i] = (1-w)*x[i] + w*(b[i] - Prod_Zeydel(A, x, y, i))/A[i,i]\n",
    "        x = y\n",
    "        k+=1\n",
    "\n",
    "\n",
    "    return (x, k)    \n",
    "\n",
    "print(Gauss_Zeydel_with_argument(A, b, P, 0.001, 0.5))"
   ]
  },
  {
   "cell_type": "code",
   "execution_count": 78,
   "metadata": {},
   "outputs": [
    {
     "name": "stderr",
     "output_type": "stream",
     "text": [
      "C:\\Users\\ddigo\\AppData\\Local\\Temp\\ipykernel_28076\\3290455842.py:5: RuntimeWarning: overflow encountered in double_scalars\n",
      "  s = s + (abs(A[i] - B[i]))**2\n",
      "C:\\Users\\ddigo\\AppData\\Local\\Temp\\ipykernel_28076\\957544707.py:6: RuntimeWarning: overflow encountered in double_scalars\n",
      "  if j < i: s += A[i][j]*y[j]\n",
      "C:\\Users\\ddigo\\AppData\\Local\\Temp\\ipykernel_28076\\957544707.py:7: RuntimeWarning: invalid value encountered in double_scalars\n",
      "  elif j > i: s += A[i][j]*x[j]\n",
      "C:\\Users\\ddigo\\AppData\\Local\\Temp\\ipykernel_28076\\957544707.py:6: RuntimeWarning: invalid value encountered in double_scalars\n",
      "  if j < i: s += A[i][j]*y[j]\n",
      "C:\\Users\\ddigo\\AppData\\Local\\Temp\\ipykernel_28076\\1741386002.py:9: RuntimeWarning: overflow encountered in double_scalars\n",
      "  y[i] = (1-w)*x[i] + w*(b[i] - Prod_Zeydel(A, x, y, i))/A[i,i]\n"
     ]
    },
    {
     "data": {
      "image/png": "[encoded data removed]",
      "text/plain": [
       "<Figure size 640x480 with 1 Axes>"
      ]
     },
     "metadata": {},
     "output_type": "display_data"
    }
   ],
   "source": [
    "t = np.linspace(0, 2, 100)\n",
    "Z = np.zeros(len(t))\n",
    "\n",
    "for i in range(len(t)):\n",
    "    temp = Gauss_Zeydel_with_argument(A, b, P, 0.001, t[i])[1]\n",
    "    try:\n",
    "        Z[i] = temp\n",
    "    except TypeError or RuntimeWarning:\n",
    "        Z[i] = 1000\n",
    "\n",
    "plt.plot(t, Z, color = 'blue', label = 'Количество шагов от W')\n",
    "plt.legend()\n",
    "plt.show()"
   ]
  },
  {
   "cell_type": "code",
   "execution_count": null,
   "metadata": {},
   "outputs": [],
   "source": []
  }
 ],
 "metadata": {
  "kernelspec": {
   "display_name": "Python 3",
   "language": "python",
   "name": "python3"
  },
  "language_info": {
   "codemirror_mode": {
    "name": "ipython",
    "version": 3
   },
   "file_extension": ".py",
   "mimetype": "text/x-python",
   "name": "python",
   "nbconvert_exporter": "python",
   "pygments_lexer": "ipython3",
   "version": "3.10.6"
  }
 },
 "nbformat": 4,
 "nbformat_minor": 2
}
