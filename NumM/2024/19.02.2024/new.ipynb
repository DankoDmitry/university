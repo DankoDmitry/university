{
 "cells": [
  {
   "cell_type": "code",
   "execution_count": 2,
   "metadata": {},
   "outputs": [],
   "source": [
    "import numpy as np\n",
    "import matplotlib.pyplot as plt"
   ]
  },
  {
   "cell_type": "code",
   "execution_count": 3,
   "metadata": {},
   "outputs": [
    {
     "name": "stdout",
     "output_type": "stream",
     "text": [
      "[[20 13 14 18 16]\n",
      " [ 4 20 15 19 18]\n",
      " [11 18 20  8 15]\n",
      " [17 12  9 20  7]\n",
      " [ 5  2 15  7 20]] [18 11 15  2  7] [ 1.14356194  1.54353831 -2.26317966 -1.52959423  2.14249841]\n"
     ]
    }
   ],
   "source": [
    "A = np.zeros((2,2))\n",
    "while np.linalg.det(A) == 0:\n",
    "    A = np.random.randint (1, 20, (5, 5))\n",
    "    for i in range(5): A[i,i] = 20\n",
    "b = np.random.randint (0, 20, 5)\n",
    "E = 0.001\n",
    "P = np.linalg.solve(A, b)\n",
    "print(A, b, P)"
   ]
  },
  {
   "cell_type": "code",
   "execution_count": 4,
   "metadata": {},
   "outputs": [
    {
     "name": "stdout",
     "output_type": "stream",
     "text": [
      "(array([ 1.14352471,  1.5433654 , -2.26253818, -1.52950729,  2.14201347]), 27)\n"
     ]
    }
   ],
   "source": [
    "def Messure(A, B):\n",
    "    N = len(B)\n",
    "    s = 0\n",
    "    for i in range(N):\n",
    "        s = s + (abs(A[i] - B[i]))**2\n",
    "\n",
    "    return np.sqrt(s)\n",
    "\n",
    "def Prod(A, x, i):\n",
    "    N = len(x)\n",
    "    s = 0\n",
    "    \n",
    "    for j in range(N):\n",
    "        if j != i: s += A[i][j]*x[j]\n",
    "    \n",
    "    return s\n",
    "\n",
    "def Simp(A, b, P, E):\n",
    "    N = len(b)\n",
    "\n",
    "    x, y = np.zeros(N), np.zeros(N)\n",
    "    k = 0\n",
    "\n",
    "    while Messure(x, P) > E and k < 1000:\n",
    "        for i in range(N):\n",
    "            y[i] = (b[i] - Prod(A, x, i))/A[i,i]\n",
    "        x = y\n",
    "        k+=1\n",
    "\n",
    "    return (x, k)    \n",
    "\n",
    "print(Simp(A, b, P, 0.001))"
   ]
  },
  {
   "cell_type": "code",
   "execution_count": 5,
   "metadata": {},
   "outputs": [
    {
     "name": "stdout",
     "output_type": "stream",
     "text": [
      "(array([ 1.14352267,  1.5433541 , -2.26250056, -1.52950183,  2.14198498]), 24)\n"
     ]
    }
   ],
   "source": [
    "def Prod_Zeydel(A, x, y, i):\n",
    "    N = len(x)\n",
    "    s = 0\n",
    "    \n",
    "    for j in range(N):\n",
    "        if j < i: s += A[i][j]*y[j]\n",
    "        elif j > i: s += A[i][j]*x[j]\n",
    "    \n",
    "    return s\n",
    "\n",
    "def Gauss_Zeydel(A, b, P, E):\n",
    "    N = len(b)\n",
    "\n",
    "    x, y = np.zeros(N), np.zeros(N)\n",
    "    k = 0\n",
    "\n",
    "    while Messure(x, P) > E and k < 1000:\n",
    "        for i in range(N):\n",
    "            y[i] = (b[i] - Prod_Zeydel(A, x, y, i))/A[i,i]\n",
    "        x = y\n",
    "        k+=1\n",
    "\n",
    "\n",
    "    return (x, k)    \n",
    "\n",
    "print(Gauss_Zeydel(A, b, P, 0.001))"
   ]
  },
  {
   "cell_type": "code",
   "execution_count": 6,
   "metadata": {},
   "outputs": [
    {
     "name": "stdout",
     "output_type": "stream",
     "text": [
      "(array([ 1.14357224,  1.54386629, -2.26384925, -1.5297556 ,  2.14303843]), 67)\n"
     ]
    }
   ],
   "source": [
    "def Gauss_Zeydel_with_argument(A, b, P, E, w):\n",
    "    N = len(b)\n",
    "\n",
    "    x, y = np.zeros(N), np.zeros(N)\n",
    "    k = 0\n",
    "\n",
    "    while Messure(x, P) > E and k < 1000:\n",
    "        for i in range(N):\n",
    "            y[i] = (1-w)*x[i] + w*(b[i] - Prod_Zeydel(A, x, y, i))/A[i,i]\n",
    "        x = y\n",
    "        k+=1\n",
    "\n",
    "\n",
    "    return (x, k)    \n",
    "\n",
    "print(Gauss_Zeydel_with_argument(A, b, P, 0.001, 0.5))"
   ]
  },
  {
   "cell_type": "code",
   "execution_count": 7,
   "metadata": {},
   "outputs": [
    {
     "name": "stderr",
     "output_type": "stream",
     "text": [
      "C:\\Users\\ddigo\\AppData\\Local\\Temp\\ipykernel_10948\\3290455842.py:5: RuntimeWarning: overflow encountered in double_scalars\n",
      "  s = s + (abs(A[i] - B[i]))**2\n"
     ]
    },
    {
     "data": {
      "image/png": "[encoded data removed]",
      "text/plain": [
       "<Figure size 640x480 with 1 Axes>"
      ]
     },
     "metadata": {},
     "output_type": "display_data"
    }
   ],
   "source": [
    "t = np.linspace(0, 2, 100)\n",
    "Z = np.zeros(len(t))\n",
    "\n",
    "for i in range(len(t)):\n",
    "    temp = Gauss_Zeydel_with_argument(A, b, P, 0.001, t[i])[1]\n",
    "    try:\n",
    "        Z[i] = temp\n",
    "    except TypeError or RuntimeWarning:\n",
    "        Z[i] = 1000\n",
    "\n",
    "plt.plot(t, Z, color = 'blue', label = 'Количество шагов от W')\n",
    "plt.legend()\n",
    "plt.show()"
   ]
  },
  {
   "cell_type": "code",
   "execution_count": null,
   "metadata": {},
   "outputs": [],
   "source": []
  }
 ],
 "metadata": {
  "kernelspec": {
   "display_name": "Python 3",
   "language": "python",
   "name": "python3"
  },
  "language_info": {
   "codemirror_mode": {
    "name": "ipython",
    "version": 3
   },
   "file_extension": ".py",
   "mimetype": "text/x-python",
   "name": "python",
   "nbconvert_exporter": "python",
   "pygments_lexer": "ipython3",
   "version": "3.10.6"
  }
 },
 "nbformat": 4,
 "nbformat_minor": 2
}
