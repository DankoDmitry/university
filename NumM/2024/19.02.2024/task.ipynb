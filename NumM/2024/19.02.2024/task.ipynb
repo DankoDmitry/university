{
 "cells": [
  {
   "cell_type": "code",
   "execution_count": 1,
   "metadata": {},
   "outputs": [],
   "source": [
    "import numpy as np\n",
    "import matplotlib.pyplot as plt\n"
   ]
  },
  {
   "cell_type": "code",
   "execution_count": 221,
   "metadata": {},
   "outputs": [
    {
     "name": "stdout",
     "output_type": "stream",
     "text": [
      "[[20  9  4 15  5]\n",
      " [13 20 13 11 16]\n",
      " [17 11 20 14  2]\n",
      " [ 3 11  1 20 11]\n",
      " [ 5  4  6 12 20]] [ 0  1 19 17  8] [-0.97630548 -0.43723304  1.06493301  1.42843829 -0.4450199 ]\n"
     ]
    }
   ],
   "source": [
    "A = np.zeros((2,2))\n",
    "while np.linalg.det(A) == 0:\n",
    "    A = np.random.randint (1, 20, (5, 5))\n",
    "    for i in range(5): A[i,i] = 20\n",
    "b = np.random.randint (0, 20, 5)\n",
    "E = 0.001\n",
    "P = np.linalg.solve(A, b)\n",
    "print(A, b, P)"
   ]
  },
  {
   "cell_type": "code",
   "execution_count": null,
   "metadata": {},
   "outputs": [],
   "source": []
  },
  {
   "cell_type": "code",
   "execution_count": null,
   "metadata": {},
   "outputs": [],
   "source": []
  },
  {
   "cell_type": "code",
   "execution_count": 222,
   "metadata": {},
   "outputs": [],
   "source": [
    "def Messure(A, B):\n",
    "    N = len(B)\n",
    "    s = 0\n",
    "    for i in range(N):\n",
    "        print(A[i], B[i])\n",
    "        s = s + (abs(A[i] - B[i]))**2\n",
    "\n",
    "    \n",
    "    return np.sqrt(s)"
   ]
  },
  {
   "cell_type": "code",
   "execution_count": 223,
   "metadata": {},
   "outputs": [],
   "source": [
    "def X_1(A, b, x, i):\n",
    "    s = 0\n",
    "    for p in range(len(b)):\n",
    "        if p != i: s = s + A[i, p]*x[p]\n",
    "    return (b[i] - s)/A[i,i]"
   ]
  },
  {
   "cell_type": "code",
   "execution_count": 224,
   "metadata": {},
   "outputs": [],
   "source": [
    "def Simp(A, b, E, P):\n",
    "    if np.linalg.det(A) == 0: return (\"error\")\n",
    "\n",
    "    N = len(b)\n",
    "    X = np.zeros(N)\n",
    "\n",
    "    k = 0\n",
    "    while((Messure(X, P) > E) and k < 1000):\n",
    "        Y = np.zeros(N)\n",
    "        for i in range(N):\n",
    "            Y[i] = X_1(A, b, X, i)\n",
    "        X = Y\n",
    "        k+=1\n",
    "    return (\"simp: \", X, k)    \n",
    "\n"
   ]
  },
  {
   "cell_type": "code",
   "execution_count": null,
   "metadata": {},
   "outputs": [],
   "source": []
  },
  {
   "cell_type": "code",
   "execution_count": null,
   "metadata": {},
   "outputs": [],
   "source": []
  },
  {
   "cell_type": "code",
   "execution_count": null,
   "metadata": {},
   "outputs": [],
   "source": []
  },
  {
   "cell_type": "code",
   "execution_count": null,
   "metadata": {},
   "outputs": [],
   "source": []
  },
  {
   "cell_type": "code",
   "execution_count": null,
   "metadata": {},
   "outputs": [],
   "source": []
  },
  {
   "cell_type": "code",
   "execution_count": null,
   "metadata": {},
   "outputs": [],
   "source": []
  },
  {
   "cell_type": "code",
   "execution_count": null,
   "metadata": {},
   "outputs": [],
   "source": []
  },
  {
   "cell_type": "code",
   "execution_count": 188,
   "metadata": {},
   "outputs": [],
   "source": [
    "def X_2(A, b, x, y, i):\n",
    "    s = 0\n",
    "    for p in range(len(b)):\n",
    "        if p<i:\n",
    "            s += A[i, p]*y[p]\n",
    "        elif p>i:\n",
    "            s += A[i, p]*x[p]\n",
    "\n",
    "    return (b[i] - s)/A[i,i]"
   ]
  },
  {
   "cell_type": "code",
   "execution_count": 189,
   "metadata": {},
   "outputs": [],
   "source": [
    "def Gauss_Zeydel(A, b, E, P):\n",
    "    if np.linalg.det(A) == 0: return (\"error\")\n",
    "\n",
    "    N = len(b)\n",
    "    X = np.zeros(N)\n",
    "\n",
    "    k = 0\n",
    "    while((Messure(X, P) > E) and k < 10001):\n",
    "\n",
    "        Y = np.zeros(N)\n",
    "        for i in range(N):\n",
    "            Y[i] = X_2(A, b, X, Y, i)\n",
    "        X = Y\n",
    "        k+=1\n",
    "\n",
    "    return (\"Gauss_Zeydel: \", X, k)    "
   ]
  },
  {
   "cell_type": "code",
   "execution_count": 200,
   "metadata": {},
   "outputs": [
    {
     "name": "stdout",
     "output_type": "stream",
     "text": [
      "('Gauss_Zeydel: ', array([1.1524213e+307,           -inf,            inf,            nan,\n",
      "                  nan]), 1130)\n"
     ]
    },
    {
     "name": "stderr",
     "output_type": "stream",
     "text": [
      "C:\\Users\\ddigo\\AppData\\Local\\Temp\\ipykernel_11884\\2662247523.py:5: RuntimeWarning: overflow encountered in double_scalars\n",
      "  s = s + (abs( A[i] - B[i]))**2\n",
      "C:\\Users\\ddigo\\AppData\\Local\\Temp\\ipykernel_11884\\2971223521.py:7: RuntimeWarning: overflow encountered in double_scalars\n",
      "  s += A[i, p]*x[p]\n",
      "C:\\Users\\ddigo\\AppData\\Local\\Temp\\ipykernel_11884\\2971223521.py:5: RuntimeWarning: invalid value encountered in double_scalars\n",
      "  s += A[i, p]*y[p]\n"
     ]
    }
   ],
   "source": [
    "print(Gauss_Zeydel(A, b, E, P))"
   ]
  },
  {
   "cell_type": "code",
   "execution_count": 161,
   "metadata": {},
   "outputs": [],
   "source": [
    "def X_3(A, b, x, y, i):\n",
    "    s = 0\n",
    "    for p in range(len(b)):\n",
    "        if p<i:\n",
    "            s += A[i, p]*y[p]\n",
    "        elif p>i:\n",
    "            s += A[i, p]*x[p]\n",
    "\n",
    "    return (b[i] - s)/A[i,i]"
   ]
  },
  {
   "cell_type": "code",
   "execution_count": 166,
   "metadata": {},
   "outputs": [],
   "source": [
    "def Relax(A, b, E, P, w):\n",
    "    if np.linalg.det(A) == 0: return (\"error\")\n",
    "\n",
    "    N = len(b)\n",
    "    X = np.zeros(N)\n",
    "\n",
    "    k = 0\n",
    "    while((Messure(X, P) > E) and k < 10001):\n",
    "\n",
    "        Y = np.zeros(N)\n",
    "        for i in range(N):\n",
    "            Y[i] = (1-w) * X[i] + w*X_3(A, b, X, Y, i)\n",
    "        X = Y\n",
    "        k+=1\n",
    "\n",
    "    return (X, k)    "
   ]
  },
  {
   "cell_type": "code",
   "execution_count": 167,
   "metadata": {},
   "outputs": [
    {
     "name": "stdout",
     "output_type": "stream",
     "text": [
      "(array([0.7088623 , 0.45829264, 0.49951172, 0.24975586]), 10)\n"
     ]
    }
   ],
   "source": [
    "print(Relax(A, b, E, P, 0.5))"
   ]
  },
  {
   "cell_type": "code",
   "execution_count": 178,
   "metadata": {},
   "outputs": [
    {
     "name": "stderr",
     "output_type": "stream",
     "text": [
      "C:\\Users\\ddigo\\AppData\\Local\\Temp\\ipykernel_11884\\3130202684.py:9: RuntimeWarning: divide by zero encountered in double_scalars\n",
      "  return (b[i] - s)/A[i,i]\n",
      "C:\\Users\\ddigo\\AppData\\Local\\Temp\\ipykernel_11884\\1957674244.py:12: RuntimeWarning: invalid value encountered in double_scalars\n",
      "  Y[i] = (1-w) * X[i] + w*X_3(A, b, X, Y, i)\n",
      "C:\\Users\\ddigo\\AppData\\Local\\Temp\\ipykernel_11884\\3130202684.py:5: RuntimeWarning: invalid value encountered in double_scalars\n",
      "  s += A[i, p]*y[p]\n"
     ]
    }
   ],
   "source": [
    "W = np.linspace(0, 2-0.0001, 100)\n",
    "Z = np.zeros(len(W))\n",
    "for t in range(len(W)):\n",
    "    Z[t] = Messure(Relax(A, b, E, P, W[t])[0], P)"
   ]
  },
  {
   "cell_type": "code",
   "execution_count": 179,
   "metadata": {},
   "outputs": [
    {
     "data": {
      "image/png": "[encoded data removed]",
      "text/plain": [
       "<Figure size 640x480 with 1 Axes>"
      ]
     },
     "metadata": {},
     "output_type": "display_data"
    }
   ],
   "source": [
    "\n",
    "plt.plot(W, Z, color = 'blue', label = 'величина ошибки от W')\n",
    "plt.legend()\n",
    "plt.show()"
   ]
  },
  {
   "cell_type": "code",
   "execution_count": null,
   "metadata": {},
   "outputs": [],
   "source": []
  },
  {
   "cell_type": "code",
   "execution_count": null,
   "metadata": {},
   "outputs": [],
   "source": []
  },
  {
   "cell_type": "code",
   "execution_count": null,
   "metadata": {},
   "outputs": [],
   "source": []
  }
 ],
 "metadata": {
  "kernelspec": {
   "display_name": "Python 3",
   "language": "python",
   "name": "python3"
  },
  "language_info": {
   "codemirror_mode": {
    "name": "ipython",
    "version": 3
   },
   "file_extension": ".py",
   "mimetype": "text/x-python",
   "name": "python",
   "nbconvert_exporter": "python",
   "pygments_lexer": "ipython3",
   "version": "3.10.6"
  }
 },
 "nbformat": 4,
 "nbformat_minor": 2
}
