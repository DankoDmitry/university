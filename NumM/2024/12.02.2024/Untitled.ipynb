{
 "cells": [
  {
   "cell_type": "code",
   "execution_count": 1,
   "id": "fafcc4f1-9505-42fb-9656-ef5691e8d906",
   "metadata": {},
   "outputs": [],
   "source": [
    "import numpy as np\n",
    "import matplotlib.pyplot as plt\n",
    "\n",
    "%matplotlib inline"
   ]
  },
  {
   "cell_type": "code",
   "execution_count": 2,
   "id": "1f5b6da3-d130-4f21-8704-1e9aa7047749",
   "metadata": {},
   "outputs": [],
   "source": [
    "# %matplotlib notebook"
   ]
  },
  {
   "cell_type": "code",
   "execution_count": 3,
   "id": "8330ed8b-c47f-4005-8c76-6b7066b992f3",
   "metadata": {},
   "outputs": [],
   "source": [
    "h = 0.1\n",
    "X = 1\n",
    "x_0 = 0\n",
    "y_0 = 1.5\n",
    "\n",
    "N = int((X - x_0)/h) # 10 \n",
    "\n",
    "def f(y,x):\n",
    "    return (-1 * y + np.exp(x))\n",
    "\n",
    "def Y(x):\n",
    "    return (np.exp(x)/2 + np.exp(-x))"
   ]
  },
  {
   "cell_type": "code",
   "execution_count": 4,
   "id": "022e2067-b6ae-467b-bdfa-a2a9630bc09c",
   "metadata": {},
   "outputs": [],
   "source": [
    "E = np.zeros((2,4))"
   ]
  },
  {
   "cell_type": "code",
   "execution_count": 5,
   "id": "ce67503f-4a02-4cdc-940d-8c46cb9c7d7a",
   "metadata": {},
   "outputs": [],
   "source": [
    "x = np.array([int((x_0 + i*h)*10)/10 for i in range(N+1)])\n",
    "y_1 = np.zeros(N+1) # для Эйлера\n",
    "y_1[0] = y_0\n",
    "y_2 = np.zeros(N+1) # для Рунге-Курта 3-го порядка (не то, что на доске, а тот, что на лекции)\n",
    "y_2[0] = y_0\n",
    "y_3 = np.zeros(N+1) # для Рунге-Курта 3-го порядка\n",
    "y_3[0] = y_0\n",
    "y_4 = np.zeros(N+1) # для Рунге-Курта 4-го порядка\n",
    "y_4[0] = y_0"
   ]
  },
  {
   "cell_type": "code",
   "execution_count": 6,
   "id": "36bee02a-a087-4050-a71d-c47af335c325",
   "metadata": {},
   "outputs": [
    {
     "data": {
      "text/plain": [
       "(array([0. , 0.1, 0.2, 0.3, 0.4, 0.5, 0.6, 0.7, 0.8, 0.9, 1. ]),\n",
       " array([1.5, 0. , 0. , 0. , 0. , 0. , 0. , 0. , 0. , 0. , 0. ]))"
      ]
     },
     "execution_count": 6,
     "metadata": {},
     "output_type": "execute_result"
    }
   ],
   "source": [
    "x, y_1"
   ]
  },
  {
   "cell_type": "code",
   "execution_count": 7,
   "id": "704ae248-489d-461a-9c75-2c43aec89366",
   "metadata": {},
   "outputs": [],
   "source": [
    "k = np.zeros((4,N + 1))"
   ]
  },
  {
   "cell_type": "code",
   "execution_count": 8,
   "id": "4568685a-0d32-4e47-8bff-8d6004baaa78",
   "metadata": {},
   "outputs": [],
   "source": [
    "for i in range(N): \n",
    "    k[0,i] = h*f(y_1[i],x[i])\n",
    "    y_1[i+1] = y_1[i] + k[0,i]"
   ]
  },
  {
   "cell_type": "code",
   "execution_count": 9,
   "id": "85301b6c-a921-4350-8ee3-4dceac3695e6",
   "metadata": {},
   "outputs": [
    {
     "data": {
      "text/plain": [
       "array([1.5       , 1.45      , 1.41551709, 1.39610566, 1.39148097,\n",
       "       1.40151535, 1.42623594, 1.46582422, 1.52061707, 1.59110946,\n",
       "       1.67795882])"
      ]
     },
     "execution_count": 9,
     "metadata": {},
     "output_type": "execute_result"
    }
   ],
   "source": [
    "y_1"
   ]
  },
  {
   "cell_type": "code",
   "execution_count": 10,
   "id": "0c0801c0-2a18-4488-b31c-4799c910daae",
   "metadata": {},
   "outputs": [],
   "source": [
    "m = 0\n",
    "s = 0\n",
    "for i in range(N + 1):\n",
    "    temp = abs(y_1[i] - Y(x[i]))\n",
    "    if temp > m: m = temp\n",
    "    s = s + (abs(y_1[i] - Y(x[i])))**2\n",
    "\n",
    "E[0,0] = m\n",
    "E[1,0] = np.sqrt(s)"
   ]
  },
  {
   "cell_type": "code",
   "execution_count": 11,
   "id": "15a5486d-8014-4b2b-b548-53c1374b811a",
   "metadata": {},
   "outputs": [
    {
     "data": {
      "text/plain": [
       "array([[0.04906153, 0.        , 0.        , 0.        ],\n",
       "       [0.10408869, 0.        , 0.        , 0.        ]])"
      ]
     },
     "execution_count": 11,
     "metadata": {},
     "output_type": "execute_result"
    }
   ],
   "source": [
    "E"
   ]
  },
  {
   "cell_type": "code",
   "execution_count": null,
   "id": "48310e70-54c0-462d-acce-e9431f4fe5cc",
   "metadata": {},
   "outputs": [],
   "source": []
  },
  {
   "cell_type": "code",
   "execution_count": null,
   "id": "73f3753d-77d1-42e3-badd-93a6cfa5fb2d",
   "metadata": {},
   "outputs": [],
   "source": []
  },
  {
   "cell_type": "code",
   "execution_count": 12,
   "id": "3158fcc4-bf47-4bb4-9bad-74181071f578",
   "metadata": {},
   "outputs": [],
   "source": [
    "for i in range(N): \n",
    "    k[0,i] = h*f(y_2[i], x[i])\n",
    "    k[1,i] = h*f(y_2[i]+k[0,i]/2, x[i]+h/2)\n",
    "    k[2,i] = h*f(y_2[i]+k[1,i]/2, x[i]+h/2)\n",
    "    dy = (k[0,i] + 2*k[1,i] + k[2,i])/4\n",
    "    y_2[i+1] = y_2[i] + dy"
   ]
  },
  {
   "cell_type": "code",
   "execution_count": 13,
   "id": "6dec628d-76b8-4d3c-8ee5-45c91ea8dcf3",
   "metadata": {},
   "outputs": [],
   "source": [
    "for i in range(N): \n",
    "    k[0,i] = h*f(y_3[i], x[i])\n",
    "    k[1,i] = h*f(y_3[i]+k[0,i]/3, x[i]+h/3)\n",
    "    k[2,i] = h*f(y_3[i]+2*k[1,i]/3, x[i]+2*h/3)\n",
    "    dy = (k[0,i] + 3*k[2,i])/4\n",
    "    y_3[i+1] = y_3[i] + dy"
   ]
  },
  {
   "cell_type": "code",
   "execution_count": 14,
   "id": "01fdf292-70f8-44d2-a0c4-06ee0599c45a",
   "metadata": {},
   "outputs": [
    {
     "data": {
      "text/plain": [
       "(array([1.5       , 1.45562499, 1.42605081, 1.41095906, 1.41017849,\n",
       "        1.42368299, 1.45159121, 1.49416752, 1.55182456, 1.62512718,\n",
       "        1.714798  ]),\n",
       " array([1.5       , 1.45741762, 1.42942239, 1.41573404, 1.4162155 ,\n",
       "        1.43087153, 1.45984875, 1.50343712, 1.56207284, 1.63634272,\n",
       "        1.72699004]))"
      ]
     },
     "execution_count": 14,
     "metadata": {},
     "output_type": "execute_result"
    }
   ],
   "source": [
    "y_2, y_3"
   ]
  },
  {
   "cell_type": "code",
   "execution_count": 15,
   "id": "09e451fb-b47c-41a3-8858-f114d5eeb618",
   "metadata": {},
   "outputs": [],
   "source": [
    "m = 0\n",
    "s = 0\n",
    "for i in range(N + 1):\n",
    "    temp = abs(y_2[i] - Y(x[i]))\n",
    "    if temp > m: m = temp\n",
    "    s = s + (abs(y_2[i] - Y(x[i])))**2\n",
    "\n",
    "E[0,1] = m\n",
    "E[1,1] = np.sqrt(s)"
   ]
  },
  {
   "cell_type": "code",
   "execution_count": 16,
   "id": "aefeefb2-3680-4a39-839f-3c8e3e470420",
   "metadata": {},
   "outputs": [],
   "source": [
    "m = 0\n",
    "s = 0\n",
    "for i in range(N + 1):\n",
    "    temp = abs(y_3[i] - Y(x[i]))\n",
    "    if temp > m: m = temp\n",
    "    s = s + (abs(y_3[i] - Y(x[i])))**2\n",
    "\n",
    "E[0,2] = m\n",
    "E[1,2] = np.sqrt(s)"
   ]
  },
  {
   "cell_type": "code",
   "execution_count": null,
   "id": "4be00911-30d8-4bcb-8034-280746288e78",
   "metadata": {},
   "outputs": [],
   "source": []
  },
  {
   "cell_type": "code",
   "execution_count": null,
   "id": "78ad63ed-7412-405e-bec3-9cd7ef469ec6",
   "metadata": {},
   "outputs": [],
   "source": []
  },
  {
   "cell_type": "code",
   "execution_count": null,
   "id": "7c9c72d9-d580-42d2-9ef6-26f03315fd2d",
   "metadata": {},
   "outputs": [],
   "source": []
  },
  {
   "cell_type": "code",
   "execution_count": 17,
   "id": "989fc208-90c1-4bed-b5ea-cc972fe3270a",
   "metadata": {},
   "outputs": [],
   "source": [
    "for i in range(N): \n",
    "    k[0,i] = h*f(y_4[i], x[i])\n",
    "    k[1,i] = h*f(y_4[i]+k[0,i]/2, x[i]+h/2)\n",
    "    k[2,i] = h*f(y_4[i]+k[1,i]/2, x[i]+h/2)\n",
    "    k[3,i] = h*f(y_4[i]+k[2,i], x[i]+h)\n",
    "    dy = (k[0,i] + 2*k[1,i] + 2*k[2,i] + k[3,i])/6\n",
    "    y_4[i+1] = y_4[i] + dy"
   ]
  },
  {
   "cell_type": "code",
   "execution_count": 18,
   "id": "eeb6adcb-c5b9-4082-85d4-7e831d461420",
   "metadata": {},
   "outputs": [
    {
     "data": {
      "text/plain": [
       "array([1.5       , 1.45742304, 1.42943244, 1.41574807, 1.41623297,\n",
       "       1.43089199, 1.45987185, 1.50346259, 1.56210048, 1.63637238,\n",
       "       1.72702165])"
      ]
     },
     "execution_count": 18,
     "metadata": {},
     "output_type": "execute_result"
    }
   ],
   "source": [
    "y_4"
   ]
  },
  {
   "cell_type": "code",
   "execution_count": 19,
   "id": "c78d337d-827b-4aa4-9e33-42c20bdf8c80",
   "metadata": {},
   "outputs": [],
   "source": [
    "m = 0\n",
    "s = 0\n",
    "for i in range(N + 1):\n",
    "    temp = abs(y_4[i] - Y(x[i]))\n",
    "    if temp > m: m = temp\n",
    "    s = s + (abs(y_4[i] - Y(x[i])))**2\n",
    "\n",
    "E[0,3] = m\n",
    "E[1,3] = np.sqrt(s)"
   ]
  },
  {
   "cell_type": "code",
   "execution_count": 20,
   "id": "c1911ede-3102-45a4-89dc-bfde4506fa4f",
   "metadata": {},
   "outputs": [
    {
     "data": {
      "text/plain": [
       "array([[4.90615318e-02, 1.22223569e-02, 3.03141419e-05, 1.29090571e-06],\n",
       "       [1.04088693e-01, 2.57396482e-02, 6.72295042e-05, 2.61131372e-06]])"
      ]
     },
     "execution_count": 20,
     "metadata": {},
     "output_type": "execute_result"
    }
   ],
   "source": [
    "E"
   ]
  },
  {
   "cell_type": "code",
   "execution_count": null,
   "id": "03eba569-2d35-4e96-a50a-74b393d546f8",
   "metadata": {},
   "outputs": [],
   "source": []
  },
  {
   "cell_type": "code",
   "execution_count": null,
   "id": "2890b1ae-2595-4272-af18-5e7ec7e42365",
   "metadata": {},
   "outputs": [],
   "source": []
  },
  {
   "cell_type": "code",
   "execution_count": null,
   "id": "7e4a24ac-61bb-4963-a928-795603c85a19",
   "metadata": {},
   "outputs": [],
   "source": []
  },
  {
   "cell_type": "code",
   "execution_count": 21,
   "id": "b10b0f97-edcb-4419-9f16-415fe1062032",
   "metadata": {},
   "outputs": [
    {
     "data": {
      "image/png": "[encoded data removed]",
      "text/plain": [
       "<Figure size 640x480 with 1 Axes>"
      ]
     },
     "metadata": {},
     "output_type": "display_data"
    }
   ],
   "source": [
    "t = np.linspace(x_0, X, N+1)\n",
    "\n",
    "plt.plot(t, Y(t), color = 'black', label = 'Y - Аналитическое решение')\n",
    "plt.plot(t, y_1, color = 'g', label = 'y_1 - Эйлер')\n",
    "plt.plot(t, y_2, color = 'r', label = 'y_2 - Рунге-Курта 3-го порядка (не то')\n",
    "#plt.plot(t, y_3, color = 'b', label = 'y_3 - Рунге-Курта 3-го порядка')\n",
    "#plt.plot(t, y_4, color = 'y', label = 'y_4 - Рунге-Курта 4-го порядка')\n",
    "plt.legend()\n",
    "plt.show()"
   ]
  },
  {
   "cell_type": "markdown",
   "id": "6599d421-719b-4d7b-a492-e64ad1169f19",
   "metadata": {},
   "source": [
    "# Теперь для 2N"
   ]
  },
  {
   "cell_type": "code",
   "execution_count": 22,
   "id": "a8d0d6ba-fcfd-4ce2-8e60-d9adfa68139a",
   "metadata": {},
   "outputs": [],
   "source": [
    "h2 = 0.05\n",
    "X = 1\n",
    "x_0 = 0\n",
    "y_0 = 1.5\n",
    "\n",
    "N2 = int((X - x_0)/h2) # 20 \n",
    "\n",
    "def f(y,x):\n",
    "    return (-1 * y + np.exp(x))\n",
    "\n",
    "def Y(x):\n",
    "    return (np.exp(x)/2 + np.exp(-x))\n",
    "    \n",
    "E2 = np.zeros((2,4))\n",
    "\n",
    "x2 = np.array([(x_0 + i*h2) for i in range(N2+1)])\n",
    "y2_1 = np.zeros(N2+1) # для Эйлера\n",
    "y2_1[0] = y_0\n",
    "y2_2 = np.zeros(N2+1) # для Рунге-Курта 3-го порядка (не то, что на доске, а тот, что на лекции)\n",
    "y2_2[0] = y_0\n",
    "y2_3 = np.zeros(N2+1) # для Рунге-Курта 3-го порядка\n",
    "y2_3[0] = y_0\n",
    "y2_4 = np.zeros(N2+1) # для Рунге-Курта 4-го порядка\n",
    "y2_4[0] = y_0\n",
    "\n",
    "k2 = np.zeros((4,N2 + 1))\n",
    "\n",
    "for i in range(N2): \n",
    "    k2[0,i] = h2*f(y2_1[i],x2[i])\n",
    "    y2_1[i+1] = y2_1[i] + k2[0,i]\n",
    "\n",
    "m = 0\n",
    "s = 0\n",
    "for i in range(N2 + 1):\n",
    "    temp = abs(y2_1[i] - Y(x2[i]))\n",
    "    if temp > m: m = temp\n",
    "    s = s + (abs(y2_1[i] - Y(x2[i])))**2\n",
    "\n",
    "E2[0,0] = m\n",
    "E2[1,0] = np.sqrt(s)\n",
    "\n",
    "for i in range(N2): \n",
    "    k2[0,i] = h2*f(y2_2[i], x2[i])\n",
    "    k2[1,i] = h2*f(y2_2[i]+k2[0,i]/2, x2[i]+h2/2)\n",
    "    k2[2,i] = h2*f(y2_2[i]+k2[1,i]/2, x2[i]+h2/2)\n",
    "    dy2 = (k2[0,i] + 2*k2[1,i] + k2[2,i])/4\n",
    "    y2_2[i+1] = y2_2[i] + dy2\n",
    "\n",
    "for i in range(N2): \n",
    "    k2[0,i] = h2*f(y2_3[i], x2[i])\n",
    "    k2[1,i] = h2*f(y2_3[i]+k2[0,i]/3, x2[i]+h2/3)\n",
    "    k2[2,i] = h2*f(y2_3[i]+2*k2[1,i]/3, x2[i]+2*h2/3)\n",
    "    dy2 = (k2[0,i] + 3*k2[2,i])/4\n",
    "    y2_3[i+1] = y2_3[i] + dy2\n",
    "\n",
    "for i in range(N2): \n",
    "    k2[0,i] = h2*f(y2_4[i], x2[i])\n",
    "    k2[1,i] = h2*f(y2_4[i]+k2[0,i]/2, x2[i]+h2/2)\n",
    "    k2[2,i] = h2*f(y2_4[i]+k2[1,i]/2, x2[i]+h2/2)\n",
    "    k2[3,i] = h2*f(y2_4[i]+k2[2,i], x2[i]+h2)\n",
    "    dy2 = (k2[0,i] + 2*k2[1,i] + 2*k2[2,i] + k2[3,i])/6\n",
    "    y2_4[i+1] = y2_4[i] + dy2\n",
    "\n",
    "m = 0\n",
    "s = 0\n",
    "for i in range(N2 + 1):\n",
    "    temp = abs(y2_2[i] - Y(x2[i]))\n",
    "    if temp > m: m = temp\n",
    "    s = s + (abs(y2_2[i] - Y(x2[i])))**2\n",
    "\n",
    "E2[0,1] = m\n",
    "E2[1,1] = np.sqrt(s)\n",
    "\n",
    "m = 0\n",
    "s = 0\n",
    "for i in range(N2 + 1):\n",
    "    temp = abs(y2_3[i] - Y(x2[i]))\n",
    "    if temp > m: m = temp\n",
    "    s = s + (abs(y2_3[i] - Y(x2[i])))**2\n",
    "\n",
    "E2[0,2] = m\n",
    "E2[1,2] = np.sqrt(s)\n",
    "\n",
    "m = 0\n",
    "s = 0\n",
    "for i in range(N2 + 1):\n",
    "    temp = abs(y2_4[i] - Y(x2[i]))\n",
    "    if temp > m: m = temp\n",
    "    s = s + (abs(y2_4[i] - Y(x2[i])))**2\n",
    "\n",
    "E2[0,3] = m\n",
    "E2[1,3] = np.sqrt(s)"
   ]
  },
  {
   "cell_type": "code",
   "execution_count": 23,
   "id": "f3aaea06-c559-40ac-9a65-8504e26b2882",
   "metadata": {},
   "outputs": [
    {
     "data": {
      "text/plain": [
       "(array([[4.90615318e-02, 1.22223569e-02, 3.03141419e-05, 1.29090571e-06],\n",
       "        [1.04088693e-01, 2.57396482e-02, 6.72295042e-05, 2.61131372e-06]]),\n",
       " array([[2.42029172e-02, 6.03924112e-03, 3.70179575e-06, 7.92521491e-08],\n",
       "        [7.02162613e-02, 1.74541958e-02, 1.12682567e-05, 2.18877538e-07]]))"
      ]
     },
     "execution_count": 23,
     "metadata": {},
     "output_type": "execute_result"
    }
   ],
   "source": [
    "E, E2"
   ]
  },
  {
   "cell_type": "code",
   "execution_count": 24,
   "id": "98ee2ae6-9176-4b41-9cdb-0e7dbb254f66",
   "metadata": {},
   "outputs": [],
   "source": [
    "P = np.zeros((2,4))\n",
    "for i in range(2):\n",
    "    for j in range(4):\n",
    "        P[i,j] = np.log2(E[i,j]/E2[i,j])"
   ]
  },
  {
   "cell_type": "code",
   "execution_count": 25,
   "id": "03b7eaa6-1164-47d9-be15-e800a782508b",
   "metadata": {},
   "outputs": [
    {
     "data": {
      "text/plain": [
       "array([[1.01941133, 1.01708334, 3.03369378, 4.02578976],\n",
       "       [0.56793628, 0.56041845, 2.57683017, 3.57657998]])"
      ]
     },
     "execution_count": 25,
     "metadata": {},
     "output_type": "execute_result"
    }
   ],
   "source": [
    "P"
   ]
  },
  {
   "cell_type": "code",
   "execution_count": null,
   "id": "9f9c3984-f479-4707-8ff8-8750793720b0",
   "metadata": {},
   "outputs": [],
   "source": []
  },
  {
   "cell_type": "code",
   "execution_count": null,
   "id": "5d612b8d-53ef-4012-bd03-86f4dd2cd0e3",
   "metadata": {},
   "outputs": [],
   "source": []
  },
  {
   "cell_type": "code",
   "execution_count": null,
   "id": "9315f164-c82c-414d-a8b8-7236b0adaa03",
   "metadata": {},
   "outputs": [],
   "source": []
  },
  {
   "cell_type": "code",
   "execution_count": null,
   "id": "80dd80db-186f-4333-a7bc-84e933e8044e",
   "metadata": {},
   "outputs": [],
   "source": []
  },
  {
   "cell_type": "code",
   "execution_count": null,
   "id": "8195bafd-a3e7-4ff3-aec1-6d45a30df54b",
   "metadata": {},
   "outputs": [],
   "source": []
  },
  {
   "cell_type": "code",
   "execution_count": null,
   "id": "9ec08066-2813-491f-9c90-61ee5c2bad77",
   "metadata": {},
   "outputs": [],
   "source": []
  },
  {
   "cell_type": "code",
   "execution_count": null,
   "id": "d11bf711-f67f-4319-a86d-d2a078eb6d6b",
   "metadata": {},
   "outputs": [],
   "source": []
  },
  {
   "cell_type": "code",
   "execution_count": null,
   "id": "aadfcdc0-744d-406b-b0dd-1411506c4017",
   "metadata": {},
   "outputs": [],
   "source": []
  },
  {
   "cell_type": "code",
   "execution_count": null,
   "id": "1e9e362e-b8be-4e5f-a547-7576dfb387b0",
   "metadata": {},
   "outputs": [],
   "source": []
  },
  {
   "cell_type": "code",
   "execution_count": 26,
   "id": "158c09f0-3d4e-4515-b4b7-b62b4d890f51",
   "metadata": {},
   "outputs": [
    {
     "data": {
      "text/plain": [
       "array([[1.5, 0. , 0. , 0. , 0. , 0. , 0. , 0. , 0. , 0. , 0. ],\n",
       "       [1.5, 0. , 0. , 0. , 0. , 0. , 0. , 0. , 0. , 0. , 0. ],\n",
       "       [1.5, 0. , 0. , 0. , 0. , 0. , 0. , 0. , 0. , 0. , 0. ],\n",
       "       [1.5, 0. , 0. , 0. , 0. , 0. , 0. , 0. , 0. , 0. , 0. ]])"
      ]
     },
     "execution_count": 26,
     "metadata": {},
     "output_type": "execute_result"
    }
   ],
   "source": [
    "y = np.zeros((4, N+1)) \n",
    "\n",
    "y[:,0] = y_0\n",
    "\n",
    "y"
   ]
  },
  {
   "cell_type": "code",
   "execution_count": 28,
   "id": "da868c05",
   "metadata": {},
   "outputs": [
    {
     "data": {
      "text/plain": [
       "array([0.  , 0.04, 0.08, 0.12, 0.16, 0.2 , 0.24, 0.28, 0.32, 0.36, 0.4 ,\n",
       "       0.44, 0.48, 0.52, 0.56, 0.6 , 0.64, 0.68, 0.72, 0.76, 0.8 , 0.84,\n",
       "       0.88, 0.92, 0.96, 1.  ])"
      ]
     },
     "execution_count": 28,
     "metadata": {},
     "output_type": "execute_result"
    }
   ],
   "source": [
    "h = 0.04\n",
    "X = 1\n",
    "x_0 = 0\n",
    "y_0 = 1.5\n",
    "\n",
    "N = int((X - x_0)/h) # 10 \n",
    "x = np.array([int((x_0 + i*h)*N)/N for i in range(N+1)])\n",
    "x"
   ]
  },
  {
   "cell_type": "code",
   "execution_count": null,
   "id": "2b005de1",
   "metadata": {},
   "outputs": [],
   "source": []
  }
 ],
 "metadata": {
  "kernelspec": {
   "display_name": "Python 3 (ipykernel)",
   "language": "python",
   "name": "python3"
  },
  "language_info": {
   "codemirror_mode": {
    "name": "ipython",
    "version": 3
   },
   "file_extension": ".py",
   "mimetype": "text/x-python",
   "name": "python",
   "nbconvert_exporter": "python",
   "pygments_lexer": "ipython3",
   "version": "3.10.6"
  }
 },
 "nbformat": 4,
 "nbformat_minor": 5
}
